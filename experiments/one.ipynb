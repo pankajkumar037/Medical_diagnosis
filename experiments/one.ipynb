{
 "cells": [
  {
   "cell_type": "code",
   "execution_count": 1,
   "id": "ed1e9f93",
   "metadata": {},
   "outputs": [],
   "source": [
    "import os\n",
    "from dotenv import load_dotenv\n",
    "load_dotenv()\n",
    "\n",
    "google_api_key = os.getenv(\"GOOGLE_API_KEY\")"
   ]
  },
  {
   "cell_type": "code",
   "execution_count": 2,
   "id": "245ef3fe",
   "metadata": {},
   "outputs": [
    {
     "name": "stderr",
     "output_type": "stream",
     "text": [
      "c:\\Users\\panka\\OneDrive\\Desktop\\FLnce\\Medical_diagnosis\\.venv\\Lib\\site-packages\\tqdm\\auto.py:21: TqdmWarning: IProgress not found. Please update jupyter and ipywidgets. See https://ipywidgets.readthedocs.io/en/stable/user_install.html\n",
      "  from .autonotebook import tqdm as notebook_tqdm\n"
     ]
    }
   ],
   "source": [
    "import google.generativeai as genai\n",
    "genai.configure(api_key=google_api_key)\n",
    "model = genai.GenerativeModel(\"gemini-2.0-flash\")"
   ]
  },
  {
   "cell_type": "code",
   "execution_count": 3,
   "id": "eefe3b71",
   "metadata": {},
   "outputs": [],
   "source": [
    "def extract_symptoms(user_input):\n",
    "    prompt = f\"\"\"\n",
    "    **Your are a great medical dignosis doctor.**\n",
    "    Extract symptoms from the following input: '{user_input}'\n",
    "    no any unnecessary information, just return the symptoms.\n",
    "    \"\"\"\n",
    "    response = model.generate_content(prompt)\n",
    "    return response.text"
   ]
  },
  {
   "cell_type": "code",
   "execution_count": 4,
   "id": "a0bbe7c2",
   "metadata": {},
   "outputs": [
    {
     "name": "stdout",
     "output_type": "stream",
     "text": [
      "Extracted Symptoms: Sore throat, mild fever\n",
      "\n"
     ]
    }
   ],
   "source": [
    "user_input = \"I have a sore throat and a mild fever.\"\n",
    "symptoms = extract_symptoms(user_input)\n",
    "print(\"Extracted Symptoms:\", symptoms)"
   ]
  },
  {
   "cell_type": "code",
   "execution_count": 5,
   "id": "73a4a56c",
   "metadata": {},
   "outputs": [],
   "source": [
    "age=7\n",
    "gender=\"male\"\n"
   ]
  },
  {
   "cell_type": "code",
   "execution_count": 6,
   "id": "716e7dbc",
   "metadata": {},
   "outputs": [],
   "source": [
    "chat_history={}\n",
    "def generate_follow_ups(symptoms, chat_history=\"\"):\n",
    "    prompt = f\"\"\"\n",
    "    You are a great medical diagnosis doctor.\n",
    "\n",
    "    Patient details:\n",
    "    - Symptoms: {symptoms}\n",
    "    - Age: 20\n",
    "    - Gender: Male\n",
    "    - Chat History: {chat_history}\n",
    "\n",
    "    Your task:\n",
    "    1. Ask only ONE follow-up question at a time.\n",
    "    2. Each follow-up must be a MULTIPLE CHOICE QUESTION with 3–5 medically accurate options.\n",
    "    3. Tailor your question based on:\n",
    "    - The symptoms mentioned.\n",
    "    - The patient’s previous answers (chat history).\n",
    "    - Medical reasoning and differential diagnosis logic.\n",
    "    4. Do NOT repeat any questions previously asked.\n",
    "    5. Keep asking questions until you have enough information.\n",
    "    6. Once confident, STOP asking questions and give a concise and clear DIAGNOSIS REPORT.\n",
    "    7. Be professional, empathetic, and accurate.\n",
    "\n",
    "    Begin with your first question.\n",
    "    but less than 15 Question\n",
    "    \"\"\"\n",
    "    response = model.generate_content(prompt)\n",
    "    return response.text"
   ]
  },
  {
   "cell_type": "code",
   "execution_count": null,
   "id": "54967a65",
   "metadata": {},
   "outputs": [],
   "source": [
    "res=15\n",
    "while (res):\n",
    "    follow_up_questions = generate_follow_ups(symptoms, chat_history)\n",
    "    print(\"Follow-up Questions:\", follow_up_questions)\n",
    "    user_input = input(\"Enter your answer  \")\n",
    "    chat_history[\"follow_up_questions\"] = user_input\n",
    "    res=res-1"
   ]
  },
  {
   "cell_type": "code",
   "execution_count": null,
   "id": "58c110c7",
   "metadata": {},
   "outputs": [],
   "source": [
    "chat_history.keys()"
   ]
  },
  {
   "cell_type": "markdown",
   "id": "50747e71",
   "metadata": {},
   "source": [
    "##Symptom understanding"
   ]
  },
  {
   "cell_type": "code",
   "execution_count": 10,
   "id": "8d10185a",
   "metadata": {},
   "outputs": [
    {
     "name": "stdout",
     "output_type": "stream",
     "text": [
      "Requirement already satisfied: spacy in c:\\users\\panka\\onedrive\\desktop\\flnce\\medical_diagnosis\\.venv\\lib\\site-packages (3.7.5)\n",
      "Requirement already satisfied: spacy-legacy<3.1.0,>=3.0.11 in c:\\users\\panka\\onedrive\\desktop\\flnce\\medical_diagnosis\\.venv\\lib\\site-packages (from spacy) (3.0.12)\n",
      "Requirement already satisfied: spacy-loggers<2.0.0,>=1.0.0 in c:\\users\\panka\\onedrive\\desktop\\flnce\\medical_diagnosis\\.venv\\lib\\site-packages (from spacy) (1.0.5)\n",
      "Requirement already satisfied: murmurhash<1.1.0,>=0.28.0 in c:\\users\\panka\\onedrive\\desktop\\flnce\\medical_diagnosis\\.venv\\lib\\site-packages (from spacy) (1.0.12)\n",
      "Requirement already satisfied: cymem<2.1.0,>=2.0.2 in c:\\users\\panka\\onedrive\\desktop\\flnce\\medical_diagnosis\\.venv\\lib\\site-packages (from spacy) (2.0.11)\n",
      "Requirement already satisfied: preshed<3.1.0,>=3.0.2 in c:\\users\\panka\\onedrive\\desktop\\flnce\\medical_diagnosis\\.venv\\lib\\site-packages (from spacy) (3.0.9)\n",
      "Requirement already satisfied: thinc<8.3.0,>=8.2.2 in c:\\users\\panka\\onedrive\\desktop\\flnce\\medical_diagnosis\\.venv\\lib\\site-packages (from spacy) (8.2.5)\n",
      "Requirement already satisfied: wasabi<1.2.0,>=0.9.1 in c:\\users\\panka\\onedrive\\desktop\\flnce\\medical_diagnosis\\.venv\\lib\\site-packages (from spacy) (1.1.3)\n",
      "Requirement already satisfied: srsly<3.0.0,>=2.4.3 in c:\\users\\panka\\onedrive\\desktop\\flnce\\medical_diagnosis\\.venv\\lib\\site-packages (from spacy) (2.5.1)\n",
      "Requirement already satisfied: catalogue<2.1.0,>=2.0.6 in c:\\users\\panka\\onedrive\\desktop\\flnce\\medical_diagnosis\\.venv\\lib\\site-packages (from spacy) (2.0.10)\n",
      "Requirement already satisfied: weasel<0.5.0,>=0.1.0 in c:\\users\\panka\\onedrive\\desktop\\flnce\\medical_diagnosis\\.venv\\lib\\site-packages (from spacy) (0.4.1)\n",
      "Requirement already satisfied: typer<1.0.0,>=0.3.0 in c:\\users\\panka\\onedrive\\desktop\\flnce\\medical_diagnosis\\.venv\\lib\\site-packages (from spacy) (0.15.2)\n",
      "Requirement already satisfied: tqdm<5.0.0,>=4.38.0 in c:\\users\\panka\\onedrive\\desktop\\flnce\\medical_diagnosis\\.venv\\lib\\site-packages (from spacy) (4.67.1)\n",
      "Requirement already satisfied: requests<3.0.0,>=2.13.0 in c:\\users\\panka\\onedrive\\desktop\\flnce\\medical_diagnosis\\.venv\\lib\\site-packages (from spacy) (2.32.3)\n",
      "Requirement already satisfied: pydantic!=1.8,!=1.8.1,<3.0.0,>=1.7.4 in c:\\users\\panka\\onedrive\\desktop\\flnce\\medical_diagnosis\\.venv\\lib\\site-packages (from spacy) (2.11.3)\n",
      "Requirement already satisfied: jinja2 in c:\\users\\panka\\onedrive\\desktop\\flnce\\medical_diagnosis\\.venv\\lib\\site-packages (from spacy) (3.1.6)\n",
      "Requirement already satisfied: setuptools in c:\\users\\panka\\onedrive\\desktop\\flnce\\medical_diagnosis\\.venv\\lib\\site-packages (from spacy) (79.0.0)\n",
      "Requirement already satisfied: packaging>=20.0 in c:\\users\\panka\\onedrive\\desktop\\flnce\\medical_diagnosis\\.venv\\lib\\site-packages (from spacy) (24.2)\n",
      "Requirement already satisfied: langcodes<4.0.0,>=3.2.0 in c:\\users\\panka\\onedrive\\desktop\\flnce\\medical_diagnosis\\.venv\\lib\\site-packages (from spacy) (3.5.0)\n",
      "Requirement already satisfied: numpy>=1.19.0 in c:\\users\\panka\\onedrive\\desktop\\flnce\\medical_diagnosis\\.venv\\lib\\site-packages (from spacy) (1.26.4)\n",
      "Requirement already satisfied: language-data>=1.2 in c:\\users\\panka\\onedrive\\desktop\\flnce\\medical_diagnosis\\.venv\\lib\\site-packages (from langcodes<4.0.0,>=3.2.0->spacy) (1.3.0)\n",
      "Requirement already satisfied: annotated-types>=0.6.0 in c:\\users\\panka\\onedrive\\desktop\\flnce\\medical_diagnosis\\.venv\\lib\\site-packages (from pydantic!=1.8,!=1.8.1,<3.0.0,>=1.7.4->spacy) (0.7.0)\n",
      "Requirement already satisfied: pydantic-core==2.33.1 in c:\\users\\panka\\onedrive\\desktop\\flnce\\medical_diagnosis\\.venv\\lib\\site-packages (from pydantic!=1.8,!=1.8.1,<3.0.0,>=1.7.4->spacy) (2.33.1)\n",
      "Requirement already satisfied: typing-extensions>=4.12.2 in c:\\users\\panka\\onedrive\\desktop\\flnce\\medical_diagnosis\\.venv\\lib\\site-packages (from pydantic!=1.8,!=1.8.1,<3.0.0,>=1.7.4->spacy) (4.13.2)\n",
      "Requirement already satisfied: typing-inspection>=0.4.0 in c:\\users\\panka\\onedrive\\desktop\\flnce\\medical_diagnosis\\.venv\\lib\\site-packages (from pydantic!=1.8,!=1.8.1,<3.0.0,>=1.7.4->spacy) (0.4.0)\n",
      "Requirement already satisfied: charset-normalizer<4,>=2 in c:\\users\\panka\\onedrive\\desktop\\flnce\\medical_diagnosis\\.venv\\lib\\site-packages (from requests<3.0.0,>=2.13.0->spacy) (3.4.1)\n",
      "Requirement already satisfied: idna<4,>=2.5 in c:\\users\\panka\\onedrive\\desktop\\flnce\\medical_diagnosis\\.venv\\lib\\site-packages (from requests<3.0.0,>=2.13.0->spacy) (3.10)\n",
      "Requirement already satisfied: urllib3<3,>=1.21.1 in c:\\users\\panka\\onedrive\\desktop\\flnce\\medical_diagnosis\\.venv\\lib\\site-packages (from requests<3.0.0,>=2.13.0->spacy) (2.4.0)\n",
      "Requirement already satisfied: certifi>=2017.4.17 in c:\\users\\panka\\onedrive\\desktop\\flnce\\medical_diagnosis\\.venv\\lib\\site-packages (from requests<3.0.0,>=2.13.0->spacy) (2025.1.31)\n",
      "Requirement already satisfied: blis<0.8.0,>=0.7.8 in c:\\users\\panka\\onedrive\\desktop\\flnce\\medical_diagnosis\\.venv\\lib\\site-packages (from thinc<8.3.0,>=8.2.2->spacy) (0.7.11)\n",
      "Requirement already satisfied: confection<1.0.0,>=0.0.1 in c:\\users\\panka\\onedrive\\desktop\\flnce\\medical_diagnosis\\.venv\\lib\\site-packages (from thinc<8.3.0,>=8.2.2->spacy) (0.1.5)\n",
      "Requirement already satisfied: colorama in c:\\users\\panka\\onedrive\\desktop\\flnce\\medical_diagnosis\\.venv\\lib\\site-packages (from tqdm<5.0.0,>=4.38.0->spacy) (0.4.6)\n",
      "Requirement already satisfied: click>=8.0.0 in c:\\users\\panka\\onedrive\\desktop\\flnce\\medical_diagnosis\\.venv\\lib\\site-packages (from typer<1.0.0,>=0.3.0->spacy) (8.1.8)\n",
      "Requirement already satisfied: shellingham>=1.3.0 in c:\\users\\panka\\onedrive\\desktop\\flnce\\medical_diagnosis\\.venv\\lib\\site-packages (from typer<1.0.0,>=0.3.0->spacy) (1.5.4)\n",
      "Requirement already satisfied: rich>=10.11.0 in c:\\users\\panka\\onedrive\\desktop\\flnce\\medical_diagnosis\\.venv\\lib\\site-packages (from typer<1.0.0,>=0.3.0->spacy) (14.0.0)\n",
      "Requirement already satisfied: cloudpathlib<1.0.0,>=0.7.0 in c:\\users\\panka\\onedrive\\desktop\\flnce\\medical_diagnosis\\.venv\\lib\\site-packages (from weasel<0.5.0,>=0.1.0->spacy) (0.21.0)\n",
      "Requirement already satisfied: smart-open<8.0.0,>=5.2.1 in c:\\users\\panka\\onedrive\\desktop\\flnce\\medical_diagnosis\\.venv\\lib\\site-packages (from weasel<0.5.0,>=0.1.0->spacy) (7.1.0)\n",
      "Requirement already satisfied: MarkupSafe>=2.0 in c:\\users\\panka\\onedrive\\desktop\\flnce\\medical_diagnosis\\.venv\\lib\\site-packages (from jinja2->spacy) (3.0.2)\n",
      "Requirement already satisfied: marisa-trie>=1.1.0 in c:\\users\\panka\\onedrive\\desktop\\flnce\\medical_diagnosis\\.venv\\lib\\site-packages (from language-data>=1.2->langcodes<4.0.0,>=3.2.0->spacy) (1.2.1)\n",
      "Requirement already satisfied: markdown-it-py>=2.2.0 in c:\\users\\panka\\onedrive\\desktop\\flnce\\medical_diagnosis\\.venv\\lib\\site-packages (from rich>=10.11.0->typer<1.0.0,>=0.3.0->spacy) (3.0.0)\n",
      "Requirement already satisfied: pygments<3.0.0,>=2.13.0 in c:\\users\\panka\\onedrive\\desktop\\flnce\\medical_diagnosis\\.venv\\lib\\site-packages (from rich>=10.11.0->typer<1.0.0,>=0.3.0->spacy) (2.19.1)\n",
      "Requirement already satisfied: wrapt in c:\\users\\panka\\onedrive\\desktop\\flnce\\medical_diagnosis\\.venv\\lib\\site-packages (from smart-open<8.0.0,>=5.2.1->weasel<0.5.0,>=0.1.0->spacy) (1.17.2)\n",
      "Requirement already satisfied: mdurl~=0.1 in c:\\users\\panka\\onedrive\\desktop\\flnce\\medical_diagnosis\\.venv\\lib\\site-packages (from markdown-it-py>=2.2.0->rich>=10.11.0->typer<1.0.0,>=0.3.0->spacy) (0.1.2)\n",
      "Requirement already satisfied: scispacy in c:\\users\\panka\\onedrive\\desktop\\flnce\\medical_diagnosis\\.venv\\lib\\site-packages (0.5.5)\n",
      "Requirement already satisfied: spacy<3.8.0,>=3.7.0 in c:\\users\\panka\\onedrive\\desktop\\flnce\\medical_diagnosis\\.venv\\lib\\site-packages (from scispacy) (3.7.5)\n",
      "Requirement already satisfied: scipy in c:\\users\\panka\\onedrive\\desktop\\flnce\\medical_diagnosis\\.venv\\lib\\site-packages (from scispacy) (1.15.2)\n",
      "Requirement already satisfied: requests<3.0.0,>=2.0.0 in c:\\users\\panka\\onedrive\\desktop\\flnce\\medical_diagnosis\\.venv\\lib\\site-packages (from scispacy) (2.32.3)\n",
      "Requirement already satisfied: conllu in c:\\users\\panka\\onedrive\\desktop\\flnce\\medical_diagnosis\\.venv\\lib\\site-packages (from scispacy) (6.0.0)\n",
      "Requirement already satisfied: numpy in c:\\users\\panka\\onedrive\\desktop\\flnce\\medical_diagnosis\\.venv\\lib\\site-packages (from scispacy) (1.26.4)\n",
      "Requirement already satisfied: joblib in c:\\users\\panka\\onedrive\\desktop\\flnce\\medical_diagnosis\\.venv\\lib\\site-packages (from scispacy) (1.4.2)\n",
      "Requirement already satisfied: scikit-learn>=0.20.3 in c:\\users\\panka\\onedrive\\desktop\\flnce\\medical_diagnosis\\.venv\\lib\\site-packages (from scispacy) (1.6.1)\n",
      "Requirement already satisfied: pysbd in c:\\users\\panka\\onedrive\\desktop\\flnce\\medical_diagnosis\\.venv\\lib\\site-packages (from scispacy) (0.3.4)\n",
      "Requirement already satisfied: nmslib-metabrainz==2.1.3 in c:\\users\\panka\\onedrive\\desktop\\flnce\\medical_diagnosis\\.venv\\lib\\site-packages (from scispacy) (2.1.3)\n",
      "Requirement already satisfied: pybind11>=2.2.3 in c:\\users\\panka\\onedrive\\desktop\\flnce\\medical_diagnosis\\.venv\\lib\\site-packages (from nmslib-metabrainz==2.1.3->scispacy) (2.13.6)\n",
      "Requirement already satisfied: psutil in c:\\users\\panka\\onedrive\\desktop\\flnce\\medical_diagnosis\\.venv\\lib\\site-packages (from nmslib-metabrainz==2.1.3->scispacy) (7.0.0)\n",
      "Requirement already satisfied: charset-normalizer<4,>=2 in c:\\users\\panka\\onedrive\\desktop\\flnce\\medical_diagnosis\\.venv\\lib\\site-packages (from requests<3.0.0,>=2.0.0->scispacy) (3.4.1)\n",
      "Requirement already satisfied: idna<4,>=2.5 in c:\\users\\panka\\onedrive\\desktop\\flnce\\medical_diagnosis\\.venv\\lib\\site-packages (from requests<3.0.0,>=2.0.0->scispacy) (3.10)\n",
      "Requirement already satisfied: urllib3<3,>=1.21.1 in c:\\users\\panka\\onedrive\\desktop\\flnce\\medical_diagnosis\\.venv\\lib\\site-packages (from requests<3.0.0,>=2.0.0->scispacy) (2.4.0)\n",
      "Requirement already satisfied: certifi>=2017.4.17 in c:\\users\\panka\\onedrive\\desktop\\flnce\\medical_diagnosis\\.venv\\lib\\site-packages (from requests<3.0.0,>=2.0.0->scispacy) (2025.1.31)\n",
      "Requirement already satisfied: threadpoolctl>=3.1.0 in c:\\users\\panka\\onedrive\\desktop\\flnce\\medical_diagnosis\\.venv\\lib\\site-packages (from scikit-learn>=0.20.3->scispacy) (3.6.0)\n",
      "Requirement already satisfied: spacy-legacy<3.1.0,>=3.0.11 in c:\\users\\panka\\onedrive\\desktop\\flnce\\medical_diagnosis\\.venv\\lib\\site-packages (from spacy<3.8.0,>=3.7.0->scispacy) (3.0.12)\n",
      "Requirement already satisfied: spacy-loggers<2.0.0,>=1.0.0 in c:\\users\\panka\\onedrive\\desktop\\flnce\\medical_diagnosis\\.venv\\lib\\site-packages (from spacy<3.8.0,>=3.7.0->scispacy) (1.0.5)\n",
      "Requirement already satisfied: murmurhash<1.1.0,>=0.28.0 in c:\\users\\panka\\onedrive\\desktop\\flnce\\medical_diagnosis\\.venv\\lib\\site-packages (from spacy<3.8.0,>=3.7.0->scispacy) (1.0.12)\n",
      "Requirement already satisfied: cymem<2.1.0,>=2.0.2 in c:\\users\\panka\\onedrive\\desktop\\flnce\\medical_diagnosis\\.venv\\lib\\site-packages (from spacy<3.8.0,>=3.7.0->scispacy) (2.0.11)\n",
      "Requirement already satisfied: preshed<3.1.0,>=3.0.2 in c:\\users\\panka\\onedrive\\desktop\\flnce\\medical_diagnosis\\.venv\\lib\\site-packages (from spacy<3.8.0,>=3.7.0->scispacy) (3.0.9)\n",
      "Requirement already satisfied: thinc<8.3.0,>=8.2.2 in c:\\users\\panka\\onedrive\\desktop\\flnce\\medical_diagnosis\\.venv\\lib\\site-packages (from spacy<3.8.0,>=3.7.0->scispacy) (8.2.5)\n",
      "Requirement already satisfied: wasabi<1.2.0,>=0.9.1 in c:\\users\\panka\\onedrive\\desktop\\flnce\\medical_diagnosis\\.venv\\lib\\site-packages (from spacy<3.8.0,>=3.7.0->scispacy) (1.1.3)\n",
      "Requirement already satisfied: srsly<3.0.0,>=2.4.3 in c:\\users\\panka\\onedrive\\desktop\\flnce\\medical_diagnosis\\.venv\\lib\\site-packages (from spacy<3.8.0,>=3.7.0->scispacy) (2.5.1)\n",
      "Requirement already satisfied: catalogue<2.1.0,>=2.0.6 in c:\\users\\panka\\onedrive\\desktop\\flnce\\medical_diagnosis\\.venv\\lib\\site-packages (from spacy<3.8.0,>=3.7.0->scispacy) (2.0.10)\n",
      "Requirement already satisfied: weasel<0.5.0,>=0.1.0 in c:\\users\\panka\\onedrive\\desktop\\flnce\\medical_diagnosis\\.venv\\lib\\site-packages (from spacy<3.8.0,>=3.7.0->scispacy) (0.4.1)\n",
      "Requirement already satisfied: typer<1.0.0,>=0.3.0 in c:\\users\\panka\\onedrive\\desktop\\flnce\\medical_diagnosis\\.venv\\lib\\site-packages (from spacy<3.8.0,>=3.7.0->scispacy) (0.15.2)\n",
      "Requirement already satisfied: tqdm<5.0.0,>=4.38.0 in c:\\users\\panka\\onedrive\\desktop\\flnce\\medical_diagnosis\\.venv\\lib\\site-packages (from spacy<3.8.0,>=3.7.0->scispacy) (4.67.1)\n",
      "Requirement already satisfied: pydantic!=1.8,!=1.8.1,<3.0.0,>=1.7.4 in c:\\users\\panka\\onedrive\\desktop\\flnce\\medical_diagnosis\\.venv\\lib\\site-packages (from spacy<3.8.0,>=3.7.0->scispacy) (2.11.3)\n",
      "Requirement already satisfied: jinja2 in c:\\users\\panka\\onedrive\\desktop\\flnce\\medical_diagnosis\\.venv\\lib\\site-packages (from spacy<3.8.0,>=3.7.0->scispacy) (3.1.6)\n",
      "Requirement already satisfied: setuptools in c:\\users\\panka\\onedrive\\desktop\\flnce\\medical_diagnosis\\.venv\\lib\\site-packages (from spacy<3.8.0,>=3.7.0->scispacy) (79.0.0)\n",
      "Requirement already satisfied: packaging>=20.0 in c:\\users\\panka\\onedrive\\desktop\\flnce\\medical_diagnosis\\.venv\\lib\\site-packages (from spacy<3.8.0,>=3.7.0->scispacy) (24.2)\n",
      "Requirement already satisfied: langcodes<4.0.0,>=3.2.0 in c:\\users\\panka\\onedrive\\desktop\\flnce\\medical_diagnosis\\.venv\\lib\\site-packages (from spacy<3.8.0,>=3.7.0->scispacy) (3.5.0)\n",
      "Requirement already satisfied: language-data>=1.2 in c:\\users\\panka\\onedrive\\desktop\\flnce\\medical_diagnosis\\.venv\\lib\\site-packages (from langcodes<4.0.0,>=3.2.0->spacy<3.8.0,>=3.7.0->scispacy) (1.3.0)\n",
      "Requirement already satisfied: annotated-types>=0.6.0 in c:\\users\\panka\\onedrive\\desktop\\flnce\\medical_diagnosis\\.venv\\lib\\site-packages (from pydantic!=1.8,!=1.8.1,<3.0.0,>=1.7.4->spacy<3.8.0,>=3.7.0->scispacy) (0.7.0)\n",
      "Requirement already satisfied: pydantic-core==2.33.1 in c:\\users\\panka\\onedrive\\desktop\\flnce\\medical_diagnosis\\.venv\\lib\\site-packages (from pydantic!=1.8,!=1.8.1,<3.0.0,>=1.7.4->spacy<3.8.0,>=3.7.0->scispacy) (2.33.1)\n",
      "Requirement already satisfied: typing-extensions>=4.12.2 in c:\\users\\panka\\onedrive\\desktop\\flnce\\medical_diagnosis\\.venv\\lib\\site-packages (from pydantic!=1.8,!=1.8.1,<3.0.0,>=1.7.4->spacy<3.8.0,>=3.7.0->scispacy) (4.13.2)\n",
      "Requirement already satisfied: typing-inspection>=0.4.0 in c:\\users\\panka\\onedrive\\desktop\\flnce\\medical_diagnosis\\.venv\\lib\\site-packages (from pydantic!=1.8,!=1.8.1,<3.0.0,>=1.7.4->spacy<3.8.0,>=3.7.0->scispacy) (0.4.0)\n",
      "Requirement already satisfied: blis<0.8.0,>=0.7.8 in c:\\users\\panka\\onedrive\\desktop\\flnce\\medical_diagnosis\\.venv\\lib\\site-packages (from thinc<8.3.0,>=8.2.2->spacy<3.8.0,>=3.7.0->scispacy) (0.7.11)\n",
      "Requirement already satisfied: confection<1.0.0,>=0.0.1 in c:\\users\\panka\\onedrive\\desktop\\flnce\\medical_diagnosis\\.venv\\lib\\site-packages (from thinc<8.3.0,>=8.2.2->spacy<3.8.0,>=3.7.0->scispacy) (0.1.5)\n",
      "Requirement already satisfied: colorama in c:\\users\\panka\\onedrive\\desktop\\flnce\\medical_diagnosis\\.venv\\lib\\site-packages (from tqdm<5.0.0,>=4.38.0->spacy<3.8.0,>=3.7.0->scispacy) (0.4.6)\n",
      "Requirement already satisfied: click>=8.0.0 in c:\\users\\panka\\onedrive\\desktop\\flnce\\medical_diagnosis\\.venv\\lib\\site-packages (from typer<1.0.0,>=0.3.0->spacy<3.8.0,>=3.7.0->scispacy) (8.1.8)\n",
      "Requirement already satisfied: shellingham>=1.3.0 in c:\\users\\panka\\onedrive\\desktop\\flnce\\medical_diagnosis\\.venv\\lib\\site-packages (from typer<1.0.0,>=0.3.0->spacy<3.8.0,>=3.7.0->scispacy) (1.5.4)\n",
      "Requirement already satisfied: rich>=10.11.0 in c:\\users\\panka\\onedrive\\desktop\\flnce\\medical_diagnosis\\.venv\\lib\\site-packages (from typer<1.0.0,>=0.3.0->spacy<3.8.0,>=3.7.0->scispacy) (14.0.0)\n",
      "Requirement already satisfied: cloudpathlib<1.0.0,>=0.7.0 in c:\\users\\panka\\onedrive\\desktop\\flnce\\medical_diagnosis\\.venv\\lib\\site-packages (from weasel<0.5.0,>=0.1.0->spacy<3.8.0,>=3.7.0->scispacy) (0.21.0)\n",
      "Requirement already satisfied: smart-open<8.0.0,>=5.2.1 in c:\\users\\panka\\onedrive\\desktop\\flnce\\medical_diagnosis\\.venv\\lib\\site-packages (from weasel<0.5.0,>=0.1.0->spacy<3.8.0,>=3.7.0->scispacy) (7.1.0)\n",
      "Requirement already satisfied: MarkupSafe>=2.0 in c:\\users\\panka\\onedrive\\desktop\\flnce\\medical_diagnosis\\.venv\\lib\\site-packages (from jinja2->spacy<3.8.0,>=3.7.0->scispacy) (3.0.2)\n",
      "Requirement already satisfied: marisa-trie>=1.1.0 in c:\\users\\panka\\onedrive\\desktop\\flnce\\medical_diagnosis\\.venv\\lib\\site-packages (from language-data>=1.2->langcodes<4.0.0,>=3.2.0->spacy<3.8.0,>=3.7.0->scispacy) (1.2.1)\n",
      "Requirement already satisfied: markdown-it-py>=2.2.0 in c:\\users\\panka\\onedrive\\desktop\\flnce\\medical_diagnosis\\.venv\\lib\\site-packages (from rich>=10.11.0->typer<1.0.0,>=0.3.0->spacy<3.8.0,>=3.7.0->scispacy) (3.0.0)\n",
      "Requirement already satisfied: pygments<3.0.0,>=2.13.0 in c:\\users\\panka\\onedrive\\desktop\\flnce\\medical_diagnosis\\.venv\\lib\\site-packages (from rich>=10.11.0->typer<1.0.0,>=0.3.0->spacy<3.8.0,>=3.7.0->scispacy) (2.19.1)\n",
      "Requirement already satisfied: wrapt in c:\\users\\panka\\onedrive\\desktop\\flnce\\medical_diagnosis\\.venv\\lib\\site-packages (from smart-open<8.0.0,>=5.2.1->weasel<0.5.0,>=0.1.0->spacy<3.8.0,>=3.7.0->scispacy) (1.17.2)\n",
      "Requirement already satisfied: mdurl~=0.1 in c:\\users\\panka\\onedrive\\desktop\\flnce\\medical_diagnosis\\.venv\\lib\\site-packages (from markdown-it-py>=2.2.0->rich>=10.11.0->typer<1.0.0,>=0.3.0->spacy<3.8.0,>=3.7.0->scispacy) (0.1.2)\n",
      "Requirement already satisfied: transformers in c:\\users\\panka\\onedrive\\desktop\\flnce\\medical_diagnosis\\.venv\\lib\\site-packages (4.51.3)\n",
      "Requirement already satisfied: filelock in c:\\users\\panka\\onedrive\\desktop\\flnce\\medical_diagnosis\\.venv\\lib\\site-packages (from transformers) (3.18.0)\n",
      "Requirement already satisfied: huggingface-hub<1.0,>=0.30.0 in c:\\users\\panka\\onedrive\\desktop\\flnce\\medical_diagnosis\\.venv\\lib\\site-packages (from transformers) (0.30.2)\n",
      "Requirement already satisfied: numpy>=1.17 in c:\\users\\panka\\onedrive\\desktop\\flnce\\medical_diagnosis\\.venv\\lib\\site-packages (from transformers) (1.26.4)\n",
      "Requirement already satisfied: packaging>=20.0 in c:\\users\\panka\\onedrive\\desktop\\flnce\\medical_diagnosis\\.venv\\lib\\site-packages (from transformers) (24.2)\n",
      "Requirement already satisfied: pyyaml>=5.1 in c:\\users\\panka\\onedrive\\desktop\\flnce\\medical_diagnosis\\.venv\\lib\\site-packages (from transformers) (6.0.2)\n",
      "Requirement already satisfied: regex!=2019.12.17 in c:\\users\\panka\\onedrive\\desktop\\flnce\\medical_diagnosis\\.venv\\lib\\site-packages (from transformers) (2024.11.6)\n",
      "Requirement already satisfied: requests in c:\\users\\panka\\onedrive\\desktop\\flnce\\medical_diagnosis\\.venv\\lib\\site-packages (from transformers) (2.32.3)\n",
      "Requirement already satisfied: tokenizers<0.22,>=0.21 in c:\\users\\panka\\onedrive\\desktop\\flnce\\medical_diagnosis\\.venv\\lib\\site-packages (from transformers) (0.21.1)\n",
      "Requirement already satisfied: safetensors>=0.4.3 in c:\\users\\panka\\onedrive\\desktop\\flnce\\medical_diagnosis\\.venv\\lib\\site-packages (from transformers) (0.5.3)\n",
      "Requirement already satisfied: tqdm>=4.27 in c:\\users\\panka\\onedrive\\desktop\\flnce\\medical_diagnosis\\.venv\\lib\\site-packages (from transformers) (4.67.1)\n",
      "Requirement already satisfied: fsspec>=2023.5.0 in c:\\users\\panka\\onedrive\\desktop\\flnce\\medical_diagnosis\\.venv\\lib\\site-packages (from huggingface-hub<1.0,>=0.30.0->transformers) (2025.3.2)\n",
      "Requirement already satisfied: typing-extensions>=3.7.4.3 in c:\\users\\panka\\onedrive\\desktop\\flnce\\medical_diagnosis\\.venv\\lib\\site-packages (from huggingface-hub<1.0,>=0.30.0->transformers) (4.13.2)\n",
      "Requirement already satisfied: colorama in c:\\users\\panka\\onedrive\\desktop\\flnce\\medical_diagnosis\\.venv\\lib\\site-packages (from tqdm>=4.27->transformers) (0.4.6)\n",
      "Requirement already satisfied: charset-normalizer<4,>=2 in c:\\users\\panka\\onedrive\\desktop\\flnce\\medical_diagnosis\\.venv\\lib\\site-packages (from requests->transformers) (3.4.1)\n",
      "Requirement already satisfied: idna<4,>=2.5 in c:\\users\\panka\\onedrive\\desktop\\flnce\\medical_diagnosis\\.venv\\lib\\site-packages (from requests->transformers) (3.10)\n",
      "Requirement already satisfied: urllib3<3,>=1.21.1 in c:\\users\\panka\\onedrive\\desktop\\flnce\\medical_diagnosis\\.venv\\lib\\site-packages (from requests->transformers) (2.4.0)\n",
      "Requirement already satisfied: certifi>=2017.4.17 in c:\\users\\panka\\onedrive\\desktop\\flnce\\medical_diagnosis\\.venv\\lib\\site-packages (from requests->transformers) (2025.1.31)\n"
     ]
    }
   ],
   "source": [
    "!pip install spacy\n",
    "!pip install scispacy\n",
    "!pip install transformers"
   ]
  },
  {
   "cell_type": "code",
   "execution_count": 13,
   "id": "9d01747b",
   "metadata": {},
   "outputs": [
    {
     "name": "stdout",
     "output_type": "stream",
     "text": [
      "Processing c:\\users\\panka\\onedrive\\desktop\\flnce\\medical_diagnosis\\experiments\\en_core_sci_sm-0.5.4.tar.gz\n"
     ]
    },
    {
     "name": "stderr",
     "output_type": "stream",
     "text": [
      "WARNING: Requirement './en_core_sci_sm-0.5.4.tar.gz' looks like a filename, but the file does not exist\n",
      "ERROR: Could not install packages due to an OSError: [Errno 2] No such file or directory: 'C:\\\\Users\\\\panka\\\\OneDrive\\\\Desktop\\\\FLnce\\\\Medical_diagnosis\\\\experiments\\\\en_core_sci_sm-0.5.4.tar.gz'\n",
      "\n"
     ]
    }
   ],
   "source": [
    "!pip install ./en_core_sci_sm-0.5.4.tar.gz"
   ]
  },
  {
   "cell_type": "code",
   "execution_count": 5,
   "id": "fa4bf5cd",
   "metadata": {},
   "outputs": [
    {
     "ename": "OSError",
     "evalue": "[E050] Can't find model 'Medical_diagnosis/en_core_sci_sm-0.5.4.tar.gz'. It doesn't seem to be a Python package or a valid path to a data directory.",
     "output_type": "error",
     "traceback": [
      "\u001b[31m---------------------------------------------------------------------------\u001b[39m",
      "\u001b[31mOSError\u001b[39m                                   Traceback (most recent call last)",
      "\u001b[36mCell\u001b[39m\u001b[36m \u001b[39m\u001b[32mIn[5]\u001b[39m\u001b[32m, line 6\u001b[39m\n\u001b[32m      3\u001b[39m \u001b[38;5;28;01mfrom\u001b[39;00m\u001b[38;5;250m \u001b[39m\u001b[34;01mspacy\u001b[39;00m\u001b[38;5;250m \u001b[39m\u001b[38;5;28;01mimport\u001b[39;00m displacy\n\u001b[32m      5\u001b[39m \u001b[38;5;66;03m# Load medical model\u001b[39;00m\n\u001b[32m----> \u001b[39m\u001b[32m6\u001b[39m nlp = \u001b[43mspacy\u001b[49m\u001b[43m.\u001b[49m\u001b[43mload\u001b[49m\u001b[43m(\u001b[49m\u001b[33;43m'\u001b[39;49m\u001b[33;43mMedical_diagnosis/en_core_sci_sm-0.5.4.tar.gz\u001b[39;49m\u001b[33;43m'\u001b[39;49m\u001b[43m)\u001b[49m \n\u001b[32m      8\u001b[39m \u001b[38;5;28;01mdef\u001b[39;00m\u001b[38;5;250m \u001b[39m\u001b[34mextract_medical_terms\u001b[39m(text):\n\u001b[32m      9\u001b[39m     doc = nlp(text)\n",
      "\u001b[36mFile \u001b[39m\u001b[32mc:\\Users\\panka\\OneDrive\\Desktop\\FLnce\\Medical_diagnosis\\.venv\\Lib\\site-packages\\spacy\\__init__.py:51\u001b[39m, in \u001b[36mload\u001b[39m\u001b[34m(name, vocab, disable, enable, exclude, config)\u001b[39m\n\u001b[32m     27\u001b[39m \u001b[38;5;28;01mdef\u001b[39;00m\u001b[38;5;250m \u001b[39m\u001b[34mload\u001b[39m(\n\u001b[32m     28\u001b[39m     name: Union[\u001b[38;5;28mstr\u001b[39m, Path],\n\u001b[32m     29\u001b[39m     *,\n\u001b[32m   (...)\u001b[39m\u001b[32m     34\u001b[39m     config: Union[Dict[\u001b[38;5;28mstr\u001b[39m, Any], Config] = util.SimpleFrozenDict(),\n\u001b[32m     35\u001b[39m ) -> Language:\n\u001b[32m     36\u001b[39m \u001b[38;5;250m    \u001b[39m\u001b[33;03m\"\"\"Load a spaCy model from an installed package or a local path.\u001b[39;00m\n\u001b[32m     37\u001b[39m \n\u001b[32m     38\u001b[39m \u001b[33;03m    name (str): Package name or model path.\u001b[39;00m\n\u001b[32m   (...)\u001b[39m\u001b[32m     49\u001b[39m \u001b[33;03m    RETURNS (Language): The loaded nlp object.\u001b[39;00m\n\u001b[32m     50\u001b[39m \u001b[33;03m    \"\"\"\u001b[39;00m\n\u001b[32m---> \u001b[39m\u001b[32m51\u001b[39m     \u001b[38;5;28;01mreturn\u001b[39;00m \u001b[43mutil\u001b[49m\u001b[43m.\u001b[49m\u001b[43mload_model\u001b[49m\u001b[43m(\u001b[49m\n\u001b[32m     52\u001b[39m \u001b[43m        \u001b[49m\u001b[43mname\u001b[49m\u001b[43m,\u001b[49m\n\u001b[32m     53\u001b[39m \u001b[43m        \u001b[49m\u001b[43mvocab\u001b[49m\u001b[43m=\u001b[49m\u001b[43mvocab\u001b[49m\u001b[43m,\u001b[49m\n\u001b[32m     54\u001b[39m \u001b[43m        \u001b[49m\u001b[43mdisable\u001b[49m\u001b[43m=\u001b[49m\u001b[43mdisable\u001b[49m\u001b[43m,\u001b[49m\n\u001b[32m     55\u001b[39m \u001b[43m        \u001b[49m\u001b[43menable\u001b[49m\u001b[43m=\u001b[49m\u001b[43menable\u001b[49m\u001b[43m,\u001b[49m\n\u001b[32m     56\u001b[39m \u001b[43m        \u001b[49m\u001b[43mexclude\u001b[49m\u001b[43m=\u001b[49m\u001b[43mexclude\u001b[49m\u001b[43m,\u001b[49m\n\u001b[32m     57\u001b[39m \u001b[43m        \u001b[49m\u001b[43mconfig\u001b[49m\u001b[43m=\u001b[49m\u001b[43mconfig\u001b[49m\u001b[43m,\u001b[49m\n\u001b[32m     58\u001b[39m \u001b[43m    \u001b[49m\u001b[43m)\u001b[49m\n",
      "\u001b[36mFile \u001b[39m\u001b[32mc:\\Users\\panka\\OneDrive\\Desktop\\FLnce\\Medical_diagnosis\\.venv\\Lib\\site-packages\\spacy\\util.py:472\u001b[39m, in \u001b[36mload_model\u001b[39m\u001b[34m(name, vocab, disable, enable, exclude, config)\u001b[39m\n\u001b[32m    470\u001b[39m \u001b[38;5;28;01mif\u001b[39;00m name \u001b[38;5;129;01min\u001b[39;00m OLD_MODEL_SHORTCUTS:\n\u001b[32m    471\u001b[39m     \u001b[38;5;28;01mraise\u001b[39;00m \u001b[38;5;167;01mIOError\u001b[39;00m(Errors.E941.format(name=name, full=OLD_MODEL_SHORTCUTS[name]))  \u001b[38;5;66;03m# type: ignore[index]\u001b[39;00m\n\u001b[32m--> \u001b[39m\u001b[32m472\u001b[39m \u001b[38;5;28;01mraise\u001b[39;00m \u001b[38;5;167;01mIOError\u001b[39;00m(Errors.E050.format(name=name))\n",
      "\u001b[31mOSError\u001b[39m: [E050] Can't find model 'Medical_diagnosis/en_core_sci_sm-0.5.4.tar.gz'. It doesn't seem to be a Python package or a valid path to a data directory."
     ]
    }
   ],
   "source": [
    "import spacy\n",
    "import scispacy\n",
    "from spacy import displacy\n",
    "\n",
    "# Load medical model\n",
    "nlp = spacy.load('Medical_diagnosis/en_core_sci_sm-0.5.4.tar.gz') \n",
    "\n",
    "def extract_medical_terms(text):\n",
    "    doc = nlp(text)\n",
    "    medical_entities = [ent.text.lower() for ent in doc.ents]\n",
    "    return list(set(medical_entities))  # remove duplicates\n",
    "\n",
    "symptoms = extract_medical_terms(input_text)\n",
    "\n",
    "print(\"Extracted Symptoms:\", symptoms)"
   ]
  },
  {
   "cell_type": "code",
   "execution_count": null,
   "id": "70fff911",
   "metadata": {},
   "outputs": [],
   "source": []
  },
  {
   "cell_type": "code",
   "execution_count": null,
   "id": "f1a96d4d",
   "metadata": {},
   "outputs": [],
   "source": []
  },
  {
   "cell_type": "code",
   "execution_count": null,
   "metadata": {},
   "outputs": [],
   "source": []
  }
 ],
 "metadata": {
  "kernelspec": {
   "display_name": ".venv",
   "language": "python",
   "name": "python3"
  },
  "language_info": {
   "codemirror_mode": {
    "name": "ipython",
    "version": 3
   },
   "file_extension": ".py",
   "mimetype": "text/x-python",
   "name": "python",
   "nbconvert_exporter": "python",
   "pygments_lexer": "ipython3",
   "version": "3.12.10"
  }
 },
 "nbformat": 4,
 "nbformat_minor": 5
}
